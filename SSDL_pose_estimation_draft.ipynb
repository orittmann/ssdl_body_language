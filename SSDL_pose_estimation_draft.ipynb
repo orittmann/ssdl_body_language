{
  "nbformat": 4,
  "nbformat_minor": 0,
  "metadata": {
    "colab": {
      "provenance": [],
      "toc_visible": true
    },
    "kernelspec": {
      "name": "python3",
      "display_name": "Python 3"
    },
    "language_info": {
      "name": "python"
    }
  },
  "cells": [
    {
      "cell_type": "markdown",
      "source": [
        "# Pose Estimation"
      ],
      "metadata": {
        "id": "5fkIJ69TsnJU"
      }
    },
    {
      "cell_type": "code",
      "source": [
        "!git clone https://github.com/orittmann/ssdl_body_language.git"
      ],
      "metadata": {
        "colab": {
          "base_uri": "https://localhost:8080/"
        },
        "id": "h9ZeIAn9p5eC",
        "outputId": "d52f7d1b-d068-4287-ca9d-ffe5c71529b9"
      },
      "execution_count": 13,
      "outputs": [
        {
          "output_type": "stream",
          "name": "stdout",
          "text": [
            "fatal: destination path 'ssdl_body_language' already exists and is not an empty directory.\n"
          ]
        }
      ]
    },
    {
      "cell_type": "markdown",
      "source": [
        "We start by loading some dependencies"
      ],
      "metadata": {
        "id": "sVFtNRFAbcFI"
      }
    },
    {
      "cell_type": "code",
      "source": [
        "# import dependencies\n",
        "import tensorflow as tf\n",
        "import numpy as np\n",
        "from matplotlib import pyplot as plt\n",
        "import cv2\n",
        "\n",
        "# to store resulting data aas json\n",
        "import json\n",
        "\n",
        "# to get filenames in directory\n",
        "import os\n",
        "import fnmatch"
      ],
      "metadata": {
        "id": "ggmeKedTbKrd"
      },
      "execution_count": 14,
      "outputs": []
    },
    {
      "cell_type": "markdown",
      "source": [
        "We need to load the pose estimation model"
      ],
      "metadata": {
        "id": "osA5T5Qkb3DJ"
      }
    },
    {
      "cell_type": "code",
      "source": [
        "interpreter = tf.lite.Interpreter(model_path='ssdl_body_language/model/lite-model_movenet_singlepose_thunder_3.tflite')\n",
        "interpreter.allocate_tensors()"
      ],
      "metadata": {
        "id": "4PUIfUVJb5lL"
      },
      "execution_count": 15,
      "outputs": []
    },
    {
      "cell_type": "markdown",
      "source": [
        "Here is a function that makes the keypoint detection for us:"
      ],
      "metadata": {
        "id": "RGQUMS8DbkCE"
      }
    },
    {
      "cell_type": "code",
      "source": [
        "def make_keypoint_detection(video_path):\n",
        "\n",
        "    output_images = []\n",
        "    cap = cv2.VideoCapture(video_path)\n",
        "    while cap.isOpened():\n",
        "        ret, frame = cap.read()\n",
        "\n",
        "        # if frame is read correctly ret is True\n",
        "        if not ret:\n",
        "            print(\"Stream end.\")\n",
        "            break\n",
        "\n",
        "        # Reshape image\n",
        "        img = frame.copy()\n",
        "\n",
        "        # 192x192 for lightning, 256x256 for thunder\n",
        "        # img = tf.image.resize_with_pad(np.expand_dims(img, axis=0), 192, 192)\n",
        "\n",
        "        img = tf.image.resize_with_pad(np.expand_dims(img, axis=0), 256, 256)\n",
        "\n",
        "        input_image = tf.cast(img, dtype=tf.float32)\n",
        "\n",
        "        # Setup input and output\n",
        "        input_details = interpreter.get_input_details()\n",
        "        output_details = interpreter.get_output_details()\n",
        "\n",
        "        # Make predictions\n",
        "        #interpreter.set_tensor(input_details[0]['index'], np.array(input_image))\n",
        "        interpreter.set_tensor(input_details[0]['index'], input_image.numpy())\n",
        "        interpreter.invoke()\n",
        "        keypoints_with_scores = interpreter.get_tensor(output_details[0]['index'])\n",
        "        #print(keypoints_with_scores)\n",
        "\n",
        "        # store keypoints of frame\n",
        "        # (transform numpy array to a list first, makes it easier to store as json later\n",
        "        output_images.append(keypoints_with_scores.tolist())\n",
        "\n",
        "    cap.release()\n",
        "    cv2.destroyAllWindows()\n",
        "\n",
        "    return output_images"
      ],
      "metadata": {
        "id": "2cWe_XKxbx76"
      },
      "execution_count": 16,
      "outputs": []
    },
    {
      "cell_type": "markdown",
      "source": [
        "Get video files"
      ],
      "metadata": {
        "id": "apkDofkbqYhF"
      }
    },
    {
      "cell_type": "code",
      "source": [
        "video_files = fnmatch.filter(os.listdir(\"ssdl_body_language/videos\"), \"*.mp4\")\n",
        "\n",
        "print(video_files)"
      ],
      "metadata": {
        "colab": {
          "base_uri": "https://localhost:8080/"
        },
        "id": "VkjdviSQqaxq",
        "outputId": "841c1177-0c24-4cd9-d31e-5b458ce30086"
      },
      "execution_count": 17,
      "outputs": [
        {
          "output_type": "stream",
          "name": "stdout",
          "text": [
            "['speech2_klaus_ernst.mp4', 'speech1_gabriela_heinrich.mp4']\n"
          ]
        }
      ]
    },
    {
      "cell_type": "markdown",
      "source": [
        "Apply the function"
      ],
      "metadata": {
        "id": "WCJMgKeZqmg3"
      }
    },
    {
      "cell_type": "code",
      "source": [
        "len(video_files)\n",
        "\n",
        "np.arange(0, len(video_files))"
      ],
      "metadata": {
        "colab": {
          "base_uri": "https://localhost:8080/"
        },
        "id": "aJ7x_diIqtze",
        "outputId": "7aaaf14e-e82d-4de6-e287-2fac049d488c"
      },
      "execution_count": 18,
      "outputs": [
        {
          "output_type": "execute_result",
          "data": {
            "text/plain": [
              "array([0, 1])"
            ]
          },
          "metadata": {},
          "execution_count": 18
        }
      ]
    },
    {
      "cell_type": "code",
      "source": [
        "# loop over all videos\n",
        "for i in np.arange(0, len(video_files)):\n",
        "    # specify current file path\n",
        "    current_file = video_files[i]\n",
        "    current_path = \"ssdl_body_language/videos/\" + current_file\n",
        "\n",
        "    print(\"Start inference for video \" + str(i) + \": \" + current_file)\n",
        "\n",
        "    # execute keypoint detection\n",
        "    keypoints_result_tmp = make_keypoint_detection(current_path)\n",
        "\n",
        "    # Store data\n",
        "    res_json_file = current_file.replace(\"mp4\", \"json\")\n",
        "    res_json_file_path = \"ssdl_body_language/movenet_results/\" + res_json_file\n",
        "\n",
        "    with open(res_json_file_path, 'w') as fp:\n",
        "        json.dump(keypoints_result_tmp, fp)\n",
        "\n",
        "    # delete temporary keypoint results\n",
        "    del keypoints_result_tmp\n",
        "\n",
        "    print(\"End inference for video \" + str(i) + \": \" + current_file)\n"
      ],
      "metadata": {
        "colab": {
          "base_uri": "https://localhost:8080/"
        },
        "id": "htzd3-LJqoTP",
        "outputId": "5d6cfd6c-460f-49a9-bf5c-448650e40119"
      },
      "execution_count": 22,
      "outputs": [
        {
          "output_type": "stream",
          "name": "stdout",
          "text": [
            "Start inference for video 0: speech2_klaus_ernst.mp4\n",
            "Stream end.\n",
            "End inference for video 0: speech2_klaus_ernst.mp4\n",
            "Start inference for video 1: speech1_gabriela_heinrich.mp4\n",
            "Stream end.\n",
            "End inference for video 1: speech1_gabriela_heinrich.mp4\n"
          ]
        }
      ]
    },
    {
      "cell_type": "markdown",
      "source": [
        "# Working With Pose Estimation Results"
      ],
      "metadata": {
        "id": "gT4fMdWUsyq1"
      }
    },
    {
      "cell_type": "code",
      "source": [],
      "metadata": {
        "id": "oYf3tMXTs5df"
      },
      "execution_count": null,
      "outputs": []
    }
  ]
}